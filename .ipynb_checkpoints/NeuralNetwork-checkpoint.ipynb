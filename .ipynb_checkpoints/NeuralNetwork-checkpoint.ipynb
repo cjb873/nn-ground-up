{
 "cells": [
  {
   "cell_type": "code",
   "execution_count": 1,
   "id": "c37495b7",
   "metadata": {},
   "outputs": [
    {
     "name": "stderr",
     "output_type": "stream",
     "text": [
      "2023-05-30 12:32:44.070074: I tensorflow/core/platform/cpu_feature_guard.cc:193] This TensorFlow binary is optimized with oneAPI Deep Neural Network Library (oneDNN) to use the following CPU instructions in performance-critical operations:  AVX2 FMA\n",
      "To enable them in other operations, rebuild TensorFlow with the appropriate compiler flags.\n"
     ]
    }
   ],
   "source": [
    "%matplotlib inline\n",
    "from neural_network import Network, Layer\n",
    "from keras.datasets import mnist\n",
    "from random import randrange\n",
    "import matplotlib.pyplot as plt\n",
    "import numpy as np"
   ]
  },
  {
   "cell_type": "markdown",
   "id": "6430582a",
   "metadata": {},
   "source": [
    "# Setup \n",
    "First, we create a neural network by instantiating a new neural network object and loading in the data. \n",
    "\n",
    "### Creating the network\n",
    "Currently, we onyl have support for a dense neural network, and we can only use the sigmoid activation function.\n",
    "Networks can contain any numbers of hidden layers with any number of nodes.\n",
    "\n",
    "### Importing the data\n",
    "For this example, we are going to use the MNIST data set to classify handwritten digits. MNIST contains 70,000 28 x 28 images of handwritten digits: 60,000 for training and 10,000 for testing."
   ]
  },
  {
   "cell_type": "code",
   "execution_count": 2,
   "id": "7d3fab32",
   "metadata": {},
   "outputs": [
    {
     "data": {
      "image/png": "[encoded data removed]",
      "text/plain": [
       "<Figure size 640x480 with 1 Axes>"
      ]
     },
     "metadata": {},
     "output_type": "display_data"
    },
    {
     "name": "stdout",
     "output_type": "stream",
     "text": [
      "This image is a 6.\n"
     ]
    }
   ],
   "source": [
    "model = Network(layers=[Layer(784, 'sigmoid'),\n",
    "                        Layer(64, 'sigmoid'),\n",
    "                        Layer(64, 'sigmoid'),\n",
    "                        Layer(10, 'sigmoid')])\n",
    "\n",
    "(x_train, y_train), (x_test, y_test) = mnist.load_data()\n",
    "plt.imshow(x_train[6000], cmap='gray', vmin=0, vmax=255)\n",
    "plt.show()\n",
    "print(f\"This image is a {y_train[6000]}.\")"
   ]
  },
  {
   "cell_type": "markdown",
   "id": "8e5f7146",
   "metadata": {},
   "source": [
    "# Finishing Setup\n",
    "\n",
    "We are going to initialize our training sample size for standard gradient descent using the MSE loss function."
   ]
  },
  {
   "cell_type": "code",
   "execution_count": 3,
   "id": "5393f6bd",
   "metadata": {},
   "outputs": [],
   "source": [
    "model.set_training_size(8000)"
   ]
  },
  {
   "cell_type": "markdown",
   "id": "b4ccd65e",
   "metadata": {},
   "source": [
    "# Training\n",
    "Next we train the network. The model will output the average loss for every 1000 training examples."
   ]
  },
  {
   "cell_type": "code",
   "execution_count": null,
   "id": "502c310a",
   "metadata": {},
   "outputs": [
    {
     "name": "stdout",
     "output_type": "stream",
     "text": [
      "Loss: 1.1924907902685287\n"
     ]
    }
   ],
   "source": [
    "model.train()"
   ]
  },
  {
   "cell_type": "markdown",
   "id": "1cd191b2",
   "metadata": {},
   "source": [
    "# Testing\n",
    "Next we are going to test the model will all 10,000 test examples."
   ]
  },
  {
   "cell_type": "code",
   "execution_count": 148,
   "id": "65b95956",
   "metadata": {},
   "outputs": [
    {
     "name": "stdout",
     "output_type": "stream",
     "text": [
      "When training with 8000 examples, our model's accuracy is 0.8407.\n"
     ]
    }
   ],
   "source": [
    "correct = 0\n",
    "\n",
    "for index in range(x_test.shape[0]):\n",
    "    prediction = model.predict(x_test[index].flatten())\n",
    "    if prediction.argmax() == y_test[index]:\n",
    "        correct += 1\n",
    "        \n",
    "print(f\"When training with {model.get_training_size()} examples, \"\n",
    "      f\"our model's accuracy is {correct / y_test.shape[0]}.\")\n"
   ]
  },
  {
   "cell_type": "code",
   "execution_count": 186,
   "id": "18abadd5",
   "metadata": {},
   "outputs": [
    {
     "name": "stdout",
     "output_type": "stream",
     "text": [
      "Our model predicts a 8. The label is 5.\n"
     ]
    },
    {
     "data": {
      "text/plain": [
       "<matplotlib.image.AxesImage at 0x7fda73a41420>"
      ]
     },
     "execution_count": 186,
     "metadata": {},
     "output_type": "execute_result"
    },
    {
     "data": {
      "image/png": "[encoded data removed]",
      "text/plain": [
       "<Figure size 640x480 with 1 Axes>"
      ]
     },
     "metadata": {},
     "output_type": "display_data"
    }
   ],
   "source": [
    "i = randrange(10000)\n",
    "\n",
    "prediction = model.predict(x_test[i].flatten()).argmax()\n",
    "\n",
    "print(f\"Our model predicts a {prediction}. The label is {y_test[i]}.\")\n",
    "plt.imshow(x_test[i], cmap='gray', vmin=0, vmax=255)"
   ]
  },
  {
   "cell_type": "code",
   "execution_count": null,
   "id": "c3ff63e4",
   "metadata": {},
   "outputs": [],
   "source": []
  }
 ],
 "metadata": {
  "kernelspec": {
   "display_name": "Python 3 (ipykernel)",
   "language": "python",
   "name": "python3"
  },
  "language_info": {
   "codemirror_mode": {
    "name": "ipython",
    "version": 3
   },
   "file_extension": ".py",
   "mimetype": "text/x-python",
   "name": "python",
   "nbconvert_exporter": "python",
   "pygments_lexer": "ipython3",
   "version": "3.10.9"
  }
 },
 "nbformat": 4,
 "nbformat_minor": 5
}
