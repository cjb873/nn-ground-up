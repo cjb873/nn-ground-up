{
 "cells": [
  {
   "cell_type": "code",
   "execution_count": 1,
   "id": "c37495b7",
   "metadata": {},
   "outputs": [],
   "source": [
    "%matplotlib inline\n",
    "from neural_network import Network, Layer\n",
    "from keras.datasets import mnist\n",
    "from random import randrange\n",
    "import matplotlib.pyplot as plt\n",
    "import numpy as np"
   ]
  },
  {
   "cell_type": "markdown",
   "id": "6430582a",
   "metadata": {},
   "source": [
    "# Setup \n",
    "First, we create a neural network by instantiating a new neural network object and loading in the data. \n",
    "\n",
    "### Creating the network\n",
    "Currently, we only have support for a dense neural network, and we can only use the sigmoid activation function.\n",
    "Networks can contain any numbers of hidden layers with any number of nodes.\n",
    "\n",
    "### Importing the data\n",
    "For this example, we are going to use the MNIST data set to classify handwritten digits. MNIST contains 70,000 28 x 28 images of handwritten digits: 60,000 for training and 10,000 for testing."
   ]
  },
  {
   "cell_type": "code",
   "execution_count": 2,
   "id": "7d3fab32",
   "metadata": {},
   "outputs": [
    {
     "name": "stdout",
     "output_type": "stream",
     "text": [
      "Downloading data from https://storage.googleapis.com/tensorflow/tf-keras-datasets/mnist.npz\n",
      "11490434/11490434 [==============================] - 0s 0us/step\n"
     ]
    },
    {
     "data": {
      "image/png": "[encoded data removed]",
      "text/plain": [
       "<Figure size 640x480 with 1 Axes>"
      ]
     },
     "metadata": {},
     "output_type": "display_data"
    },
    {
     "name": "stdout",
     "output_type": "stream",
     "text": [
      "This image is a 4.\n"
     ]
    }
   ],
   "source": [
    "model = Network(layers=[Layer(784, 'sigmoid'),\n",
    "                        Layer(64, 'sigmoid'),\n",
    "                        Layer(64, 'sigmoid'),\n",
    "                        Layer(10, 'sigmoid')])\n",
    "\n",
    "(x_train, y_train), (x_test, y_test) = mnist.load_data()\n",
    "digit = randrange(1, 60000)\n",
    "plt.imshow(x_train[digit], cmap='gray', vmin=0, vmax=255)\n",
    "plt.show()\n",
    "print(f\"This image is a {y_train[digit]}.\")"
   ]
  },
  {
   "cell_type": "markdown",
   "id": "8e5f7146",
   "metadata": {},
   "source": [
    "# Finishing Setup\n",
    "\n",
    "We are going to initialize our training sample size for standard gradient descent using the MSE loss function."
   ]
  },
  {
   "cell_type": "code",
   "execution_count": 3,
   "id": "5393f6bd",
   "metadata": {},
   "outputs": [],
   "source": [
    "model.set_training_size(8000)"
   ]
  },
  {
   "cell_type": "markdown",
   "id": "b4ccd65e",
   "metadata": {},
   "source": [
    "# Training\n",
    "Next we train the network. The model will output the average loss for every 1000 training examples."
   ]
  },
  {
   "cell_type": "code",
   "execution_count": 4,
   "id": "502c310a",
   "metadata": {},
   "outputs": [
    {
     "name": "stdout",
     "output_type": "stream",
     "text": [
      "Loss: 0.5128636803865454\n",
      "Loss: 0.38496625480927954\n",
      "Loss: 0.2996775942697104\n",
      "Loss: 0.23985673706232155\n",
      "Loss: 0.2132427353719946\n",
      "Loss: 0.19230668586683314\n",
      "Loss: 0.17840425515054398\n"
     ]
    }
   ],
   "source": [
    "model.train()"
   ]
  },
  {
   "cell_type": "markdown",
   "id": "1cd191b2",
   "metadata": {},
   "source": [
    "# Testing\n",
    "Next we are going to test the model will all 10,000 test examples."
   ]
  },
  {
   "cell_type": "code",
   "execution_count": 5,
   "id": "65b95956",
   "metadata": {},
   "outputs": [
    {
     "name": "stdout",
     "output_type": "stream",
     "text": [
      "When training with 8000 examples, our model's accuracy is 0.8372.\n"
     ]
    }
   ],
   "source": [
    "correct = 0\n",
    "\n",
    "for index in range(x_test.shape[0]):\n",
    "    prediction = model.predict(x_test[index].flatten())\n",
    "    if prediction.argmax() == y_test[index]:\n",
    "        correct += 1\n",
    "        \n",
    "print(f\"When training with {model.get_training_size()} examples, \"\n",
    "      f\"our model's accuracy is {correct / y_test.shape[0]}.\")\n"
   ]
  },
  {
   "cell_type": "code",
   "execution_count": 21,
   "id": "18abadd5",
   "metadata": {},
   "outputs": [
    {
     "name": "stdout",
     "output_type": "stream",
     "text": [
      "[1.21698631e-10]\n",
      "[0.9995506]\n",
      "[2.65583069e-08]\n",
      "[3.26197626e-06]\n",
      "[3.39584685e-09]\n",
      "[1.55504923e-06]\n",
      "[3.06232016e-06]\n",
      "[0.00017507]\n",
      "[4.23713357e-05]\n",
      "[8.89124195e-05]\n",
      "The model predicts this is a 1\n",
      "The label is 1.\n"
     ]
    },
    {
     "data": {
      "text/plain": [
       "<matplotlib.image.AxesImage at 0x2a2982a10>"
      ]
     },
     "execution_count": 21,
     "metadata": {},
     "output_type": "execute_result"
    },
    {
     "data": {
      "image/png": "[encoded data removed]",
      "text/plain": [
       "<Figure size 640x480 with 1 Axes>"
      ]
     },
     "metadata": {},
     "output_type": "display_data"
    }
   ],
   "source": [
    "i = randrange(10000)\n",
    "\n",
    "prediction = model.predict(x_test[i].flatten()).argmax()\n",
    "\n",
    "model.display_output()\n",
    "print(f\"The label is {y_test[i]}.\")\n",
    "plt.imshow(x_test[i], cmap='gray', vmin=0, vmax=255)"
   ]
  },
  {
   "cell_type": "code",
   "execution_count": null,
   "id": "c3ff63e4",
   "metadata": {},
   "outputs": [],
   "source": []
  }
 ],
 "metadata": {
  "kernelspec": {
   "display_name": "Python 3 (ipykernel)",
   "language": "python",
   "name": "python3"
  },
  "language_info": {
   "codemirror_mode": {
    "name": "ipython",
    "version": 3
   },
   "file_extension": ".py",
   "mimetype": "text/x-python",
   "name": "python",
   "nbconvert_exporter": "python",
   "pygments_lexer": "ipython3",
   "version": "3.11.5"
  }
 },
 "nbformat": 4,
 "nbformat_minor": 5
}
