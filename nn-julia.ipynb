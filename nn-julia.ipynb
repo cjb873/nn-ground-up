{
 "cells": [
  {
   "cell_type": "code",
   "execution_count": 1,
   "id": "a27fe38e",
   "metadata": {},
   "outputs": [
    {
     "name": "stderr",
     "output_type": "stream",
     "text": [
      "\u001b[33m\u001b[1m┌ \u001b[22m\u001b[39m\u001b[33m\u001b[1mWarning: \u001b[22m\u001b[39mMNIST.traindata() is deprecated, use `MNIST(split=:train)[:]` instead.\n",
      "\u001b[33m\u001b[1m└ \u001b[22m\u001b[39m\u001b[90m@ MLDatasets ~/.julia/packages/MLDatasets/bg0uc/src/datasets/vision/mnist.jl:187\u001b[39m\n",
      "\u001b[33m\u001b[1m┌ \u001b[22m\u001b[39m\u001b[33m\u001b[1mWarning: \u001b[22m\u001b[39mMNIST.testdata() is deprecated, use `MNIST(split=:test)[:]` instead.\n",
      "\u001b[33m\u001b[1m└ \u001b[22m\u001b[39m\u001b[90m@ MLDatasets ~/.julia/packages/MLDatasets/bg0uc/src/datasets/vision/mnist.jl:195\u001b[39m\n"
     ]
    },
    {
     "data": {
      "text/plain": [
       "(features = [0.0 0.0 … 0.0 0.0; 0.0 0.0 … 0.0 0.0; … ; 0.0 0.0 … 0.0 0.0; 0.0 0.0 … 0.0 0.0;;; 0.0 0.0 … 0.0 0.0; 0.0 0.0 … 0.0 0.0; … ; 0.0 0.0 … 0.0 0.0; 0.0 0.0 … 0.0 0.0;;; 0.0 0.0 … 0.0 0.0; 0.0 0.0 … 0.0 0.0; … ; 0.0 0.0 … 0.0 0.0; 0.0 0.0 … 0.0 0.0;;; … ;;; 0.0 0.0 … 0.0 0.0; 0.0 0.0 … 0.0 0.0; … ; 0.0 0.0 … 0.0 0.0; 0.0 0.0 … 0.0 0.0;;; 0.0 0.0 … 0.0 0.0; 0.0 0.0 … 0.0 0.0; … ; 0.0 0.0 … 0.0 0.0; 0.0 0.0 … 0.0 0.0;;; 0.0 0.0 … 0.0 0.0; 0.0 0.0 … 0.0 0.0; … ; 0.0 0.0 … 0.0 0.0; 0.0 0.0 … 0.0 0.0], targets = [7, 2, 1, 0, 4, 1, 4, 9, 5, 9  …  7, 8, 9, 0, 1, 2, 3, 4, 5, 6])"
      ]
     },
     "execution_count": 1,
     "metadata": {},
     "output_type": "execute_result"
    }
   ],
   "source": [
    "using Flux, MLDatasets, Plots, Images, Statistics\n",
    "\n",
    "import_train_x, import_train_y = MNIST.traindata(Float32)\n",
    "import_test_x, import_test_y = MNIST.testdata(Float32)"
   ]
  },
  {
   "cell_type": "code",
   "execution_count": 12,
   "id": "5f9f179d",
   "metadata": {},
   "outputs": [
    {
     "data": {
      "image/png": "[encoded data removed]",
      "text/html": [
       "<img src=\"data:image/png;base64,iVBORw0KGgoAAAANSUhEUgAAAHAAAABwCAAAAADji6uXAAAABGdBTUEAALGPC/xhBQAAAAFzUkdCAK7OHOkAAAAgY0hSTQAAeiYAAICEAAD6AAAAgOgAAHUwAADqYAAAOpgAABdwnLpRPAAAAfFJREFUaAW9wTGI1QUAB+BP73c0tB0J51ZWEOg5tTmJEYaDi5ENUVDNLoEgWAkODg51FQaFOIhLk0tDELSLEESIlIguIUWDuInicMPj8d797/+e8Pu+KIuyKIuyKIuyKIuyKIuyKIuyWNLL+AWv4xQ2jRNlURZlsYT38AVexVN8jk3jRFmURVks6AP8iJi4Z7woi7IoiwWdQUy7Yrwoi7IoiwWs4RXTvsLPxouyKIuyGGkXTmPVxN+4hDvGi7Ioi7IY6QQ+M3EHR3HXYqIsyqIsRtiHayZu4yjuW1yURVmUxQ5ewvfYbeIy7ltOlEVZlMUO3sERE9fwteVFWZRFWezgY9Mu4LFZ69hryyP8Zb4oi7IoiwX8hFumreF9fIoNW/7FSfxmVpRFWZTFgBXsNvE7npr2DU6atgff4oBZURZlURYDLuKQLQ9xwbR17LeYKIuyKIsBbxv2AzbM+gcfmi/KoizKYsAfeMOsYziIw+b7BDfNF2VRFmUx4CreteVFfIm38CZWzfcf7tlelEVZlMWAG/gT+7GCs4bdxincsr0oi7IoiwEPcBev4QUT/+OJab/iIzw2LMqiLMpiB8dxHBs4hzP4Do8sJ8qiLMpihOu4jvOeX5RFWZRFWZRFWZRFWZRFWZRFWZRFWZRFWZRFWZQ9Aw5/Pq5d5+NdAAAAAElFTkSuQmCC\">"
      ],
      "text/plain": [
       "28×28 reinterpret(reshape, Gray{Float32}, adjoint(::Matrix{Float32})) with eltype Gray{Float32}:\n",
       " Gray{Float32}(0.0)  Gray{Float32}(0.0)  …  Gray{Float32}(0.0)\n",
       " Gray{Float32}(0.0)  Gray{Float32}(0.0)     Gray{Float32}(0.0)\n",
       " Gray{Float32}(0.0)  Gray{Float32}(0.0)     Gray{Float32}(0.0)\n",
       " Gray{Float32}(0.0)  Gray{Float32}(0.0)     Gray{Float32}(0.0)\n",
       " Gray{Float32}(0.0)  Gray{Float32}(0.0)     Gray{Float32}(0.0)\n",
       " Gray{Float32}(0.0)  Gray{Float32}(0.0)  …  Gray{Float32}(0.0)\n",
       " Gray{Float32}(0.0)  Gray{Float32}(0.0)     Gray{Float32}(0.0)\n",
       " Gray{Float32}(0.0)  Gray{Float32}(0.0)     Gray{Float32}(0.0)\n",
       " Gray{Float32}(0.0)  Gray{Float32}(0.0)     Gray{Float32}(0.0)\n",
       " Gray{Float32}(0.0)  Gray{Float32}(0.0)     Gray{Float32}(0.0)\n",
       " Gray{Float32}(0.0)  Gray{Float32}(0.0)  …  Gray{Float32}(0.0)\n",
       " Gray{Float32}(0.0)  Gray{Float32}(0.0)     Gray{Float32}(0.0)\n",
       " Gray{Float32}(0.0)  Gray{Float32}(0.0)     Gray{Float32}(0.0)\n",
       " ⋮                                       ⋱  \n",
       " Gray{Float32}(0.0)  Gray{Float32}(0.0)     Gray{Float32}(0.0)\n",
       " Gray{Float32}(0.0)  Gray{Float32}(0.0)     Gray{Float32}(0.0)\n",
       " Gray{Float32}(0.0)  Gray{Float32}(0.0)     Gray{Float32}(0.0)\n",
       " Gray{Float32}(0.0)  Gray{Float32}(0.0)     Gray{Float32}(0.0)\n",
       " Gray{Float32}(0.0)  Gray{Float32}(0.0)  …  Gray{Float32}(0.0)\n",
       " Gray{Float32}(0.0)  Gray{Float32}(0.0)     Gray{Float32}(0.0)\n",
       " Gray{Float32}(0.0)  Gray{Float32}(0.0)     Gray{Float32}(0.0)\n",
       " Gray{Float32}(0.0)  Gray{Float32}(0.0)     Gray{Float32}(0.0)\n",
       " Gray{Float32}(0.0)  Gray{Float32}(0.0)     Gray{Float32}(0.0)\n",
       " Gray{Float32}(0.0)  Gray{Float32}(0.0)  …  Gray{Float32}(0.0)\n",
       " Gray{Float32}(0.0)  Gray{Float32}(0.0)     Gray{Float32}(0.0)\n",
       " Gray{Float32}(0.0)  Gray{Float32}(0.0)     Gray{Float32}(0.0)"
      ]
     },
     "execution_count": 12,
     "metadata": {},
     "output_type": "execute_result"
    }
   ],
   "source": [
    "colorview(Gray, import_train_x[:, :, rand(1:60000)]')"
   ]
  },
  {
   "cell_type": "code",
   "execution_count": 13,
   "id": "1313469b",
   "metadata": {},
   "outputs": [
    {
     "data": {
      "text/plain": [
       "784×10000 Matrix{Float32}:\n",
       " 0.0  0.0  0.0  0.0  0.0  0.0  0.0  0.0  …  0.0  0.0  0.0  0.0  0.0  0.0  0.0\n",
       " 0.0  0.0  0.0  0.0  0.0  0.0  0.0  0.0     0.0  0.0  0.0  0.0  0.0  0.0  0.0\n",
       " 0.0  0.0  0.0  0.0  0.0  0.0  0.0  0.0     0.0  0.0  0.0  0.0  0.0  0.0  0.0\n",
       " 0.0  0.0  0.0  0.0  0.0  0.0  0.0  0.0     0.0  0.0  0.0  0.0  0.0  0.0  0.0\n",
       " 0.0  0.0  0.0  0.0  0.0  0.0  0.0  0.0     0.0  0.0  0.0  0.0  0.0  0.0  0.0\n",
       " 0.0  0.0  0.0  0.0  0.0  0.0  0.0  0.0  …  0.0  0.0  0.0  0.0  0.0  0.0  0.0\n",
       " 0.0  0.0  0.0  0.0  0.0  0.0  0.0  0.0     0.0  0.0  0.0  0.0  0.0  0.0  0.0\n",
       " 0.0  0.0  0.0  0.0  0.0  0.0  0.0  0.0     0.0  0.0  0.0  0.0  0.0  0.0  0.0\n",
       " 0.0  0.0  0.0  0.0  0.0  0.0  0.0  0.0     0.0  0.0  0.0  0.0  0.0  0.0  0.0\n",
       " 0.0  0.0  0.0  0.0  0.0  0.0  0.0  0.0     0.0  0.0  0.0  0.0  0.0  0.0  0.0\n",
       " 0.0  0.0  0.0  0.0  0.0  0.0  0.0  0.0  …  0.0  0.0  0.0  0.0  0.0  0.0  0.0\n",
       " 0.0  0.0  0.0  0.0  0.0  0.0  0.0  0.0     0.0  0.0  0.0  0.0  0.0  0.0  0.0\n",
       " 0.0  0.0  0.0  0.0  0.0  0.0  0.0  0.0     0.0  0.0  0.0  0.0  0.0  0.0  0.0\n",
       " ⋮                        ⋮              ⋱            ⋮                   \n",
       " 0.0  0.0  0.0  0.0  0.0  0.0  0.0  0.0     0.0  0.0  0.0  0.0  0.0  0.0  0.0\n",
       " 0.0  0.0  0.0  0.0  0.0  0.0  0.0  0.0     0.0  0.0  0.0  0.0  0.0  0.0  0.0\n",
       " 0.0  0.0  0.0  0.0  0.0  0.0  0.0  0.0     0.0  0.0  0.0  0.0  0.0  0.0  0.0\n",
       " 0.0  0.0  0.0  0.0  0.0  0.0  0.0  0.0  …  0.0  0.0  0.0  0.0  0.0  0.0  0.0\n",
       " 0.0  0.0  0.0  0.0  0.0  0.0  0.0  0.0     0.0  0.0  0.0  0.0  0.0  0.0  0.0\n",
       " 0.0  0.0  0.0  0.0  0.0  0.0  0.0  0.0     0.0  0.0  0.0  0.0  0.0  0.0  0.0\n",
       " 0.0  0.0  0.0  0.0  0.0  0.0  0.0  0.0     0.0  0.0  0.0  0.0  0.0  0.0  0.0\n",
       " 0.0  0.0  0.0  0.0  0.0  0.0  0.0  0.0     0.0  0.0  0.0  0.0  0.0  0.0  0.0\n",
       " 0.0  0.0  0.0  0.0  0.0  0.0  0.0  0.0  …  0.0  0.0  0.0  0.0  0.0  0.0  0.0\n",
       " 0.0  0.0  0.0  0.0  0.0  0.0  0.0  0.0     0.0  0.0  0.0  0.0  0.0  0.0  0.0\n",
       " 0.0  0.0  0.0  0.0  0.0  0.0  0.0  0.0     0.0  0.0  0.0  0.0  0.0  0.0  0.0\n",
       " 0.0  0.0  0.0  0.0  0.0  0.0  0.0  0.0     0.0  0.0  0.0  0.0  0.0  0.0  0.0"
      ]
     },
     "execution_count": 13,
     "metadata": {},
     "output_type": "execute_result"
    }
   ],
   "source": [
    "train_x = Flux.flatten(import_train_x)\n",
    "test_x = Flux.flatten(import_test_x)"
   ]
  },
  {
   "cell_type": "code",
   "execution_count": 14,
   "id": "81501ff9",
   "metadata": {
    "scrolled": false
   },
   "outputs": [
    {
     "data": {
      "text/plain": [
       "10×10000 OneHotMatrix(::Vector{UInt32}) with eltype Bool:\n",
       " ⋅  ⋅  ⋅  1  ⋅  ⋅  ⋅  ⋅  ⋅  ⋅  1  ⋅  ⋅  …  ⋅  ⋅  ⋅  ⋅  ⋅  1  ⋅  ⋅  ⋅  ⋅  ⋅  ⋅\n",
       " ⋅  ⋅  1  ⋅  ⋅  1  ⋅  ⋅  ⋅  ⋅  ⋅  ⋅  ⋅     ⋅  ⋅  ⋅  ⋅  ⋅  ⋅  1  ⋅  ⋅  ⋅  ⋅  ⋅\n",
       " ⋅  1  ⋅  ⋅  ⋅  ⋅  ⋅  ⋅  ⋅  ⋅  ⋅  ⋅  ⋅     ⋅  ⋅  ⋅  ⋅  ⋅  ⋅  ⋅  1  ⋅  ⋅  ⋅  ⋅\n",
       " ⋅  ⋅  ⋅  ⋅  ⋅  ⋅  ⋅  ⋅  ⋅  ⋅  ⋅  ⋅  ⋅     ⋅  ⋅  ⋅  ⋅  ⋅  ⋅  ⋅  ⋅  1  ⋅  ⋅  ⋅\n",
       " ⋅  ⋅  ⋅  ⋅  1  ⋅  1  ⋅  ⋅  ⋅  ⋅  ⋅  ⋅     ⋅  ⋅  ⋅  ⋅  ⋅  ⋅  ⋅  ⋅  ⋅  1  ⋅  ⋅\n",
       " ⋅  ⋅  ⋅  ⋅  ⋅  ⋅  ⋅  ⋅  1  ⋅  ⋅  ⋅  ⋅  …  1  ⋅  ⋅  ⋅  ⋅  ⋅  ⋅  ⋅  ⋅  ⋅  1  ⋅\n",
       " ⋅  ⋅  ⋅  ⋅  ⋅  ⋅  ⋅  ⋅  ⋅  ⋅  ⋅  1  ⋅     ⋅  1  ⋅  ⋅  ⋅  ⋅  ⋅  ⋅  ⋅  ⋅  ⋅  1\n",
       " 1  ⋅  ⋅  ⋅  ⋅  ⋅  ⋅  ⋅  ⋅  ⋅  ⋅  ⋅  ⋅     ⋅  ⋅  1  ⋅  ⋅  ⋅  ⋅  ⋅  ⋅  ⋅  ⋅  ⋅\n",
       " ⋅  ⋅  ⋅  ⋅  ⋅  ⋅  ⋅  ⋅  ⋅  ⋅  ⋅  ⋅  ⋅     ⋅  ⋅  ⋅  1  ⋅  ⋅  ⋅  ⋅  ⋅  ⋅  ⋅  ⋅\n",
       " ⋅  ⋅  ⋅  ⋅  ⋅  ⋅  ⋅  1  ⋅  1  ⋅  ⋅  1     ⋅  ⋅  ⋅  ⋅  1  ⋅  ⋅  ⋅  ⋅  ⋅  ⋅  ⋅"
      ]
     },
     "execution_count": 14,
     "metadata": {},
     "output_type": "execute_result"
    }
   ],
   "source": [
    "train_y = Flux.onehotbatch(import_train_y, 0:9)\n",
    "test_y = Flux.onehotbatch(import_test_y, 0:9)"
   ]
  },
  {
   "cell_type": "code",
   "execution_count": 15,
   "id": "645d3e6c",
   "metadata": {},
   "outputs": [
    {
     "data": {
      "text/plain": [
       "model (generic function with 1 method)"
      ]
     },
     "execution_count": 15,
     "metadata": {},
     "output_type": "execute_result"
    }
   ],
   "source": [
    "function linear(in, out)\n",
    "    W = randn(out, in)\n",
    "    b = randn(out)\n",
    "    x -> W * x .+ b\n",
    "end\n",
    "\n",
    "linear1 = linear(784, 32)\n",
    "linear2 = linear(32, 32)\n",
    "linear3 = linear(32, 32)\n",
    "linear4 = linear(32, 10)\n",
    "\n",
    "model(x) = σ.(linear4(σ.(linear3(σ.(linear2(σ.(linear1(x))))))))"
   ]
  },
  {
   "cell_type": "code",
   "execution_count": 16,
   "id": "83a736d6",
   "metadata": {},
   "outputs": [
    {
     "data": {
      "text/plain": [
       "loss (generic function with 1 method)"
      ]
     },
     "execution_count": 16,
     "metadata": {},
     "output_type": "execute_result"
    }
   ],
   "source": [
    "function loss(x, y)\n",
    "    ŷ = model(x)\n",
    "    sum((y .- ŷ).^2)\n",
    "end"
   ]
  },
  {
   "cell_type": "code",
   "execution_count": 20,
   "id": "73677b3a",
   "metadata": {},
   "outputs": [
    {
     "data": {
      "text/plain": [
       "train! (generic function with 1 method)"
      ]
     },
     "execution_count": 20,
     "metadata": {},
     "output_type": "execute_result"
    }
   ],
   "source": [
    "function gradient_and_update!(x, y)\n",
    "    params = Flux.params(linear4.W, linear4.b, linear3.W, linear3.b, linear2.W, linear2.b, linear1.W, linear1.b)\n",
    "    gs = gradient(() -> loss(x, y), params)\n",
    "   \n",
    "    linear1.W .-= 0.1 * gs[linear1.W]\n",
    "    linear2.W .-= 0.1 * gs[linear2.W]\n",
    "    linear3.W .-= 0.1 * gs[linear3.W]\n",
    "    linear4.W .-= 0.1 * gs[linear4.W]\n",
    "    \n",
    "    linear1.b .-= gs[linear1.b]\n",
    "    linear2.b .-= gs[linear2.b]\n",
    "    linear3.b .-= gs[linear3.b]\n",
    "    linear4.b .-= gs[linear4.b]\n",
    "\n",
    "end\n",
    "\n",
    "function train!(training_size)\n",
    "    avg_loss = 0\n",
    "    for i in 1:training_size\n",
    "    \n",
    "        digit = i\n",
    "    \n",
    "        gradient_and_update!(train_x[:, digit], train_y[:, digit])\n",
    "        avg_loss += loss(train_x[:, digit], train_y[:, digit])\n",
    "        if i % training_size == 0\n",
    "            println(\"Loss: $(avg_loss / training_size)\")\n",
    "            avg_loss = 0\n",
    "        end\n",
    "    end\n",
    "end"
   ]
  },
  {
   "cell_type": "code",
   "execution_count": 21,
   "id": "97737db5",
   "metadata": {},
   "outputs": [
    {
     "data": {
      "text/plain": [
       "accuracy (generic function with 1 method)"
      ]
     },
     "execution_count": 21,
     "metadata": {},
     "output_type": "execute_result"
    }
   ],
   "source": [
    "function accuracy()\n",
    "    correct = 0\n",
    "    for i in 1:10_000\n",
    "        if argmax(model(test_x[:, i])) == argmax(test_y[:, i])\n",
    "            correct += 1\n",
    "        end\n",
    "    end\n",
    "    correct / 10000\n",
    "end"
   ]
  },
  {
   "cell_type": "code",
   "execution_count": 45,
   "id": "f07d7535",
   "metadata": {},
   "outputs": [
    {
     "name": "stdout",
     "output_type": "stream",
     "text": [
      "Loss: 0.353473223426564\n",
      "Loss: 0.3894148695020045\n",
      "Loss: 0.6990256602019544\n",
      "Loss: 0.3738703659288123\n",
      "Loss: 0.37774988953759187\n",
      "Loss: 0.3740886159151646\n",
      "Loss: 0.3601961080330999\n",
      "Loss: 0.29464512064262294\n",
      "Loss: 0.40304674884361796\n",
      "Loss: 0.4706583084195402\n",
      "Loss: 0.35255926239473506\n",
      "Loss: 0.5201073818077313\n",
      "Loss: 0.4488861847988176\n",
      "Loss: 2.432030815031729\n",
      "Loss: 0.45687050601357493\n",
      "Loss: 0.6670597659818056\n",
      "Loss: 0.33406640945651495\n",
      "Loss: 0.38754498349144084\n",
      "Loss: 0.404536471102405\n",
      "Loss: 0.5617909230578638\n",
      "Loss: 0.40136324457569306\n",
      "Loss: 0.39148993200456667\n",
      "Loss: 0.4983723864694401\n",
      "Loss: 0.3976785224141954\n",
      "Loss: 0.5526759137559949\n",
      "Loss: 0.7153430677492811\n",
      "Loss: 0.5495473391962943\n",
      "Loss: 1.256805615350329\n",
      "Loss: 0.46971714925810915\n",
      "Loss: 0.5148695590469102\n",
      "Loss: 0.37786808380284304\n",
      "Loss: 0.4170091376631146\n",
      "Loss: 1.3017473494863314\n",
      "Loss: 0.4212747005545532\n",
      "Loss: 0.3893944714992939\n",
      "Loss: 0.37200575992998774\n",
      "Loss: 0.407955192079463\n",
      "Loss: 0.3012745345372644\n",
      "Loss: 0.34549525107698276\n",
      "Loss: 0.4988522931957551\n",
      "Loss: 0.37260358852953024\n",
      "Loss: 0.4265182833986967\n",
      "Loss: 0.5468866267907627\n",
      "Loss: 0.49333618545488045\n",
      "Loss: 0.42385000245214266\n",
      "Loss: 0.4681628625890817\n",
      "Loss: 1.95053761756274\n",
      "Loss: 0.46576598693551946\n",
      "Loss: 0.35784250755847263\n",
      "Loss: 0.4911746483294251\n",
      "Loss: 0.37355681184805545\n",
      "Loss: 0.7611907998510101\n",
      "Loss: 0.6033406821665448\n",
      "Loss: 0.40913456798416814\n",
      "Loss: 0.3682314888234767\n",
      "Loss: 0.36731904052859016\n",
      "Loss: 0.45246657948624147\n",
      "Loss: 0.4404440661715623\n",
      "Loss: 0.43934680421011846\n",
      "Loss: 0.3275698578862808\n",
      "Loss: 0.5021202829177276\n",
      "Loss: 0.3896542149242157\n",
      "Loss: 0.3588429042796715\n",
      "Loss: 0.49334448453535634\n",
      "Loss: 0.4291414186028634\n",
      "Loss: 0.40032425212143535\n",
      "Loss: 0.428085820084748\n",
      "Loss: 0.3979456676397882\n",
      "Loss: 0.3855216780023045\n",
      "Loss: 0.7431999537697599\n",
      "Loss: 0.5958331563676126\n",
      "Loss: 1.3843957881206648\n",
      "Loss: 0.3725355012231077\n",
      "Loss: 0.573675576425196\n",
      "Loss: 1.292489936586644\n",
      "Loss: 0.30608903098662243\n",
      "Loss: 1.1091484744242874\n",
      "Loss: 0.3590933995803156\n",
      "Loss: 0.7112409758813647\n",
      "Loss: 0.4752787183167078\n",
      "Loss: 0.5362003298107091\n",
      "Loss: 0.5524352899512474\n",
      "Loss: 0.3655477439252812\n",
      "Loss: 0.4492554088404086\n",
      "Loss: 0.5039651351365471\n",
      "Loss: 0.5010168191984596\n",
      "Loss: 0.4399030809257203\n",
      "Loss: 0.3897890944889153\n",
      "Loss: 0.9370839837433383\n",
      "Loss: 0.6739284457849241\n",
      "Loss: 0.39208871781111926\n",
      "Loss: 0.4501426710996212\n",
      "Loss: 0.4415410235351285\n",
      "Loss: 0.383512164962135\n",
      "Loss: 0.4387338333736306\n",
      "Loss: 0.3068312340131045\n",
      "Loss: 0.3947379288066802\n",
      "Loss: 0.4337551361014647\n",
      "Loss: 0.3533631739167343\n",
      "Loss: 0.3854936111643897\n",
      "Avg Accuracy = 0.6647340000000004\n"
     ]
    }
   ],
   "source": [
    "avg_accuracy = 0\n",
    "\n",
    "for i in 1:100\n",
    "    \n",
    "    \n",
    "    linear1 = linear(784, 64)\n",
    "    linear2 = linear(64, 64)\n",
    "    linear3 = linear(64, 64)\n",
    "    linear4 = linear(64, 10)\n",
    "\n",
    "    model(x) = σ.(linear4(σ.(linear3(σ.(linear2(σ.(linear1(x))))))))\n",
    "    train!(8000)\n",
    "        \n",
    "    avg_accuracy += accuracy()\n",
    "end\n",
    "\n",
    "println(\"Avg Accuracy = $(avg_accuracy / 100)\")\n",
    "    "
   ]
  },
  {
   "cell_type": "code",
   "execution_count": 44,
   "id": "6ea4c7c8",
   "metadata": {},
   "outputs": [
    {
     "name": "stdout",
     "output_type": "stream",
     "text": [
      "The model predicts that the value is a 1, with a probability of 0.8230662935539642\n",
      "The label is a 1\n"
     ]
    },
    {
     "data": {
      "image/png": "[encoded data removed]",
      "text/html": [
       "<img src=\"data:image/png;base64,iVBORw0KGgoAAAANSUhEUgAAAHAAAABwCAAAAADji6uXAAAABGdBTUEAALGPC/xhBQAAAAFzUkdCAK7OHOkAAAAgY0hSTQAAeiYAAICEAAD6AAAAgOgAAHUwAADqYAAAOpgAABdwnLpRPAAAAStJREFUaAW9wbFplQEAhdET+RoHsLIQG3udQIgiti6SBdzEJezELptIHMDGQgJiLFKkff8L3HMylrGMZSxjGctYxjKWsYxlLGMZy1jGctBz/HTvEteOyVjGMpaDPuDOvfe4dkzGMpaxHPTd42QsYxnLI7xC+Ot0GctYxvIIn/AUv50uYxnLWMYylrGM5aBf+IaP7j3Db6fLWMYyloP+4IcHV7hyuoxlLGMZy1jGMpaxjGUsYznDBS7wBBeOyVjGMpYz3OEO/3DnmIxlLGMZy1jGMpaxjGUsYxnLWMYylrGMZSxjGctYxjKWR3qHF7hxmoxlLGM5w60HL/EaN06TsYxlLGf4jDd4iy/46nQZy1jGcoZbXDpPxjKWsYxlLGMZy1jGMpaxjGUsYxn7DwhyGchXvH3rAAAAAElFTkSuQmCC\">"
      ],
      "text/plain": [
       "28×28 reinterpret(reshape, Gray{Float32}, adjoint(::Matrix{Float32})) with eltype Gray{Float32}:\n",
       " Gray{Float32}(0.0)  Gray{Float32}(0.0)  …  Gray{Float32}(0.0)\n",
       " Gray{Float32}(0.0)  Gray{Float32}(0.0)     Gray{Float32}(0.0)\n",
       " Gray{Float32}(0.0)  Gray{Float32}(0.0)     Gray{Float32}(0.0)\n",
       " Gray{Float32}(0.0)  Gray{Float32}(0.0)     Gray{Float32}(0.0)\n",
       " Gray{Float32}(0.0)  Gray{Float32}(0.0)     Gray{Float32}(0.0)\n",
       " Gray{Float32}(0.0)  Gray{Float32}(0.0)  …  Gray{Float32}(0.0)\n",
       " Gray{Float32}(0.0)  Gray{Float32}(0.0)     Gray{Float32}(0.0)\n",
       " Gray{Float32}(0.0)  Gray{Float32}(0.0)     Gray{Float32}(0.0)\n",
       " Gray{Float32}(0.0)  Gray{Float32}(0.0)     Gray{Float32}(0.0)\n",
       " Gray{Float32}(0.0)  Gray{Float32}(0.0)     Gray{Float32}(0.0)\n",
       " Gray{Float32}(0.0)  Gray{Float32}(0.0)  …  Gray{Float32}(0.0)\n",
       " Gray{Float32}(0.0)  Gray{Float32}(0.0)     Gray{Float32}(0.0)\n",
       " Gray{Float32}(0.0)  Gray{Float32}(0.0)     Gray{Float32}(0.0)\n",
       " ⋮                                       ⋱  \n",
       " Gray{Float32}(0.0)  Gray{Float32}(0.0)     Gray{Float32}(0.0)\n",
       " Gray{Float32}(0.0)  Gray{Float32}(0.0)     Gray{Float32}(0.0)\n",
       " Gray{Float32}(0.0)  Gray{Float32}(0.0)     Gray{Float32}(0.0)\n",
       " Gray{Float32}(0.0)  Gray{Float32}(0.0)     Gray{Float32}(0.0)\n",
       " Gray{Float32}(0.0)  Gray{Float32}(0.0)  …  Gray{Float32}(0.0)\n",
       " Gray{Float32}(0.0)  Gray{Float32}(0.0)     Gray{Float32}(0.0)\n",
       " Gray{Float32}(0.0)  Gray{Float32}(0.0)     Gray{Float32}(0.0)\n",
       " Gray{Float32}(0.0)  Gray{Float32}(0.0)     Gray{Float32}(0.0)\n",
       " Gray{Float32}(0.0)  Gray{Float32}(0.0)     Gray{Float32}(0.0)\n",
       " Gray{Float32}(0.0)  Gray{Float32}(0.0)  …  Gray{Float32}(0.0)\n",
       " Gray{Float32}(0.0)  Gray{Float32}(0.0)     Gray{Float32}(0.0)\n",
       " Gray{Float32}(0.0)  Gray{Float32}(0.0)     Gray{Float32}(0.0)"
      ]
     },
     "execution_count": 44,
     "metadata": {},
     "output_type": "execute_result"
    }
   ],
   "source": [
    "digit = rand(1:10000)\n",
    "\n",
    "output = model(test_x[:, digit])\n",
    "inference =  argmax(output) - 1\n",
    "probability = output[inference + 1]\n",
    "\n",
    "println(\"The model predicts that the value is a $(inference), with a probability of $(probability)\")\n",
    "println(\"The label is a $(argmax(test_y[:, digit]) - 1)\")\n",
    "colorview(Gray, import_test_x[:, :, digit]')"
   ]
  },
  {
   "cell_type": "code",
   "execution_count": 43,
   "id": "c57c7678",
   "metadata": {},
   "outputs": [
    {
     "data": {
      "text/plain": [
       "0.7336"
      ]
     },
     "execution_count": 43,
     "metadata": {},
     "output_type": "execute_result"
    }
   ],
   "source": [
    "accuracy()"
   ]
  },
  {
   "cell_type": "code",
   "execution_count": null,
   "id": "1f271cc7",
   "metadata": {},
   "outputs": [],
   "source": []
  }
 ],
 "metadata": {
  "kernelspec": {
   "display_name": "Julia 1.8.5",
   "language": "julia",
   "name": "julia-1.8"
  },
  "language_info": {
   "file_extension": ".jl",
   "mimetype": "application/julia",
   "name": "julia",
   "version": "1.8.5"
  }
 },
 "nbformat": 4,
 "nbformat_minor": 5
}
